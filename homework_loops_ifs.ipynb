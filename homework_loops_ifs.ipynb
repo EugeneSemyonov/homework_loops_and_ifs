{
 "cells": [
  {
   "cell_type": "markdown",
   "metadata": {
    "colab_type": "text",
    "id": "X9wfb-pqPzYu"
   },
   "source": [
    "# Циклы и условия\n",
    "\n",
    "## Домашняя работа\n",
    "Эта домашняя работа должна быть решена **БЕЗ** использования готовых функций (если именно они «решают» задачу) и сторонних библиотек. Используйте циклы и условия."
   ]
  },
  {
   "cell_type": "markdown",
   "metadata": {
    "colab_type": "text",
    "id": "LWsFp-lTB1SY"
   },
   "source": [
    "**Цель блока заданий:** в данном блоке задач вы потренируетесь использовать циклы и условные операторы для решения практических задач.\n",
    "\n",
    "**Критерии оценки:** задания считаются выполненными, если программа выводит корректный ответ."
   ]
  },
  {
   "cell_type": "markdown",
   "metadata": {
    "colab_type": "text",
    "id": "DMpu8uUoPzY0"
   },
   "source": [
    "## 1\n",
    "\n",
    "Напишите программу, которая будет запрашивать на вход числа (через запятую на одной строке) и выводить наибольшее значение из списка.\n",
    "<br><br>\n",
    "*Ограничение: нельзя пользоваться готовой функцией для нахождения максимума (например, `max()`), готовыми функциями и методами сортировки (например, `sort()`,`sorted()`), функцией set().*\n",
    "<br>\n",
    "<br>\n",
    "*Формат ввода:* <br>\n",
    "1, 2, 3, 6, 7<br><br>\n",
    "\n",
    "*Формат вывода:* <br>\n",
    "7"
   ]
  },
  {
   "cell_type": "markdown",
   "metadata": {
    "colab_type": "text",
    "id": "jc-6GNtHB1SZ"
   },
   "source": [
    "**Рекомендации к выполнению задания:** попробуйте создать переменную, в которой будете хранить максимум. Итерируя по списку входных значений, сравните максимум с каждым элементом. В случае, если элемент оказался больше максимума, присвойте данной переменной новое значение."
   ]
  },
  {
   "cell_type": "code",
   "execution_count": 9,
   "metadata": {
    "colab": {},
    "colab_type": "code",
    "id": "dHs34-p-PzY3"
   },
   "outputs": [
    {
     "name": "stdout",
     "output_type": "stream",
     "text": [
      "Введите через запятую числа:2, 3, 1, 7, 6\n"
     ]
    },
    {
     "data": {
      "text/plain": [
       "7"
      ]
     },
     "execution_count": 9,
     "metadata": {},
     "output_type": "execute_result"
    }
   ],
   "source": [
    "str_numbers = input(\"Введите через запятую числа:\")\n",
    "numbers = str_numbers.split(\",\")\n",
    "max = 0\n",
    "for number in numbers:\n",
    "    max = int(number) if int(number) > max else max\n",
    "max\n"
   ]
  },
  {
   "cell_type": "markdown",
   "metadata": {
    "colab_type": "text",
    "id": "sCF9Hd9rPzZD"
   },
   "source": [
    "### 2\n",
    "\n",
    "Напишите программу, которая будет запрашивать на вход числа (каждое с новой строки) до тех пор, пока не будет введён ноль (0). На выход должно выводиться второе по величине значение.\n",
    "<br><br>\n",
    "*Ограничение: нельзя пользоваться готовой функцией для нахождения максимума (например, `max()`), готовыми функциями и методами сортировки (например, `sort()`,`sorted()`).*\n",
    "<br><br>\n",
    "*Формат ввода:* <br>\n",
    "4<br>\n",
    "6<br>\n",
    "7<br>\n",
    "7<br>\n",
    "0\n",
    "<br><br>\n",
    "\n",
    "*Формат вывода:* <br>\n",
    "6"
   ]
  },
  {
   "cell_type": "markdown",
   "metadata": {
    "colab_type": "text",
    "id": "3wgCKyz8B1Se"
   },
   "source": [
    "**Рекомендации к выполнению задания:** попробуйте реализовать идею решения из предыдущего задания, используя две переменные для хранения максимумов."
   ]
  },
  {
   "cell_type": "code",
   "execution_count": 7,
   "metadata": {
    "colab": {},
    "colab_type": "code",
    "id": "yrJk-mEjPzZF"
   },
   "outputs": [
    {
     "name": "stdout",
     "output_type": "stream",
     "text": [
      "4\n",
      "6\n",
      "7\n",
      "7\n",
      "0\n"
     ]
    },
    {
     "data": {
      "text/plain": [
       "7"
      ]
     },
     "execution_count": 7,
     "metadata": {},
     "output_type": "execute_result"
    }
   ],
   "source": [
    "max = 0\n",
    "second_value = 0\n",
    "while True:\n",
    "    new_value = int(input())\n",
    "    if new_value == 0:\n",
    "        break\n",
    "    if new_value > max:\n",
    "        second_value = max\n",
    "        max = new_value\n",
    "    elif new_value > second_value:\n",
    "        second_value = new_value\n",
    "second_value"
   ]
  },
  {
   "cell_type": "markdown",
   "metadata": {
    "colab_type": "text",
    "id": "fdJZMUtGPzZN"
   },
   "source": [
    "## 3\n",
    "\n",
    "Напишите программу, которая принимает на вход год, а на выход выдаёт количество дней в этом году.\n",
    "<br><br>\n",
    "*Формат ввода:* <br>\n",
    "2020<br><br>\n",
    "\n",
    "*Формат вывода:* <br>\n",
    "366"
   ]
  },
  {
   "cell_type": "markdown",
   "metadata": {
    "colab_type": "text",
    "id": "3RIf28qDB1Sh"
   },
   "source": [
    "**Рекомендации к выполнению задания:** вспомните свойство делимости для високосных годов."
   ]
  },
  {
   "cell_type": "code",
   "execution_count": 11,
   "metadata": {
    "colab": {},
    "colab_type": "code",
    "id": "Dk6PDx-jPzZP"
   },
   "outputs": [
    {
     "name": "stdout",
     "output_type": "stream",
     "text": [
      "1254\n",
      "365\n"
     ]
    }
   ],
   "source": [
    "year = int(input())\n",
    "if year % 4 != 0:\n",
    "    print(365)\n",
    "elif year % 100 == 0:\n",
    "    if year % 400 == 0:\n",
    "        print(366)\n",
    "    else:\n",
    "        print(365)\n",
    "else:\n",
    "    print(366)\n"
   ]
  },
  {
   "cell_type": "markdown",
   "metadata": {
    "colab_type": "text",
    "id": "wFGBh0dYPzZV"
   },
   "source": [
    "### 4\n",
    "\n",
    "Напишите программу, которая на вход получает координаты двух клеток шахматной доски и выводит соощение о том, являются ли эти клетки одного цвета.\n",
    "<br><br>\n",
    "*Формат ввода:* <br>\n",
    "c2<br>\n",
    "e4<br><br>\n",
    "\n",
    "*Формат вывода:* <br>\n",
    "Клетки одинакового цвета"
   ]
  },
  {
   "cell_type": "markdown",
   "metadata": {
    "colab_type": "text",
    "id": "_VJtexxXB1Sk"
   },
   "source": [
    "**Рекомендации к выполнению задания:** попробуйте заметить закономерность о чётности и нечётности суммы координат клеток, если считать, что координаты клеток задаются только цифрами от 1 до 8. "
   ]
  },
  {
   "cell_type": "code",
   "execution_count": 20,
   "metadata": {
    "colab": {},
    "colab_type": "code",
    "id": "k-8POcqGPzZW"
   },
   "outputs": [
    {
     "name": "stdout",
     "output_type": "stream",
     "text": [
      "c2\n",
      "e4\n",
      "Клетки одинакового цвета\n"
     ]
    }
   ],
   "source": [
    "COORD = {'a':1,'b':2,'c':3,'d':4,'e':5,'f':6,'g':7,'h':8}\n",
    "first_cell = input()\n",
    "second_cell = input()\n",
    "if ((COORD[first_cell[0]]+int(first_cell[1])) % 2 == (COORD[second_cell[0]]+int(second_cell[1])) % 2):\n",
    "    print(\"Клетки одинакового цвета\")\n",
    "else:\n",
    "    print(\"Клетки различных цветов\")\n"
   ]
  },
  {
   "cell_type": "markdown",
   "metadata": {
    "colab_type": "text",
    "id": "O594rz0tPzZb"
   },
   "source": [
    "### 5\n",
    "\n",
    "Напишите программу, которая на вход получает число, а на выходе сообщает, простое это число или составное.\n",
    "<br><br>\n",
    "*Формат ввода:* <br>\n",
    "169<br><br>\n",
    "\n",
    "*Формат вывода:* <br>\n",
    "Составное число"
   ]
  },
  {
   "cell_type": "markdown",
   "metadata": {
    "colab_type": "text",
    "id": "NQjUV04_B1So"
   },
   "source": [
    "**Рекомендации к выполнению задания:** помните, что простых чисел бесконечно много, а любое произведение простых чисел даёт составное число. "
   ]
  },
  {
   "cell_type": "code",
   "execution_count": 28,
   "metadata": {
    "colab": {},
    "colab_type": "code",
    "id": "-Oy1AesyPzZd"
   },
   "outputs": [
    {
     "name": "stdout",
     "output_type": "stream",
     "text": [
      "113\n",
      "Простое число\n"
     ]
    }
   ],
   "source": [
    "#алгоритм неоптимальный, но с задачей справляется\n",
    "number = int(input())\n",
    "i = 2\n",
    "#Делители большие number/2 проверять нет смысла, т.к. наименьший целый делитель для составных чисел: 2 и при таком делении будут получаться только дробные числа\n",
    "while i < number / 2: \n",
    "    if number % i == 0:\n",
    "        print(\"Составное число\")\n",
    "        break\n",
    "    i += 1\n",
    "else:\n",
    "    print(\"Простое число\")\n"
   ]
  },
  {
   "cell_type": "markdown",
   "metadata": {
    "colab_type": "text",
    "id": "QzBAQaW8PzZg"
   },
   "source": [
    "### 6\n",
    "\n",
    "Напишите программу, которая на вход получает целое число больше 2 и выводит по нему его наименьший натуральный делитель, отличный от 1.\n",
    "<br><br>\n",
    "*Формат ввода:* <br>\n",
    "169<br><br>\n",
    "\n",
    "*Формат вывода:* <br>\n",
    "13"
   ]
  },
  {
   "cell_type": "code",
   "execution_count": 26,
   "metadata": {
    "colab": {},
    "colab_type": "code",
    "id": "Z2QzgAYKPzZi"
   },
   "outputs": [
    {
     "name": "stdout",
     "output_type": "stream",
     "text": [
      "169\n",
      "13\n"
     ]
    }
   ],
   "source": [
    "number = int(input())\n",
    "i = 2\n",
    "while i < number / 2:\n",
    "    if number % i == 0:\n",
    "        print(i)\n",
    "        break\n",
    "    i += 1\n",
    "else:\n",
    "    print(\"Простое число\")\n"
   ]
  },
  {
   "cell_type": "markdown",
   "metadata": {
    "colab_type": "text",
    "id": "Mdg_IAfFPzZk"
   },
   "source": [
    "### 7\n",
    "\n",
    "Напишите программу, которая поможет составить план тренировок для подготовки к марафону. Она получает на вход число километров на планируемом марафоне, сколько пользователь планирует пробежать в первый день тренировок и на сколько процентов планирует увеличивать каждый день это расстояние. На выходе программа должна выдавать, сколько дней пользователю потребуется для того, чтобы подготовиться пробежать целевое количество километров.\n",
    "<br><br>\n",
    "*Ограничение: нельзя пользоваться функцией `ceil()` из модуля `math` и её аналогами.*\n",
    "<br><br>\n",
    "*Формат ввода:* <br>\n",
    "12<br>\n",
    "3<br>\n",
    "10<br><br>\n",
    "\n",
    "*Формат вывода:* <br>\n",
    "16"
   ]
  },
  {
   "cell_type": "code",
   "execution_count": 36,
   "metadata": {
    "colab": {},
    "colab_type": "code",
    "id": "mXeF6AMWPzZl"
   },
   "outputs": [
    {
     "name": "stdout",
     "output_type": "stream",
     "text": [
      "12\n",
      "3\n",
      "10\n",
      "16\n"
     ]
    }
   ],
   "source": [
    "lenght = int(input())\n",
    "first_day_len = int(input())\n",
    "percent = int(input())\n",
    "days = 1\n",
    "while lenght > first_day_len:\n",
    "    first_day_len += (first_day_len * percent/100)\n",
    "    days += 1\n",
    "print(days)\n"
   ]
  },
  {
   "cell_type": "markdown",
   "metadata": {
    "colab_type": "text",
    "id": "sxKoWpYKPzZo"
   },
   "source": [
    "### 8\n",
    "\n",
    "Напишите программу, которая на вход получает число n и считает по нему сумму 1²+2²+3²+...+n².\n",
    "<br><br>\n",
    "*Ограничение: нельзя пользоваться функцией `sum()` и её аналогами.*\n",
    "\n",
    "*Формат ввода:* <br>\n",
    "3<br><br>\n",
    "\n",
    "*Формат вывода:* <br>\n",
    "14"
   ]
  },
  {
   "cell_type": "code",
   "execution_count": 1,
   "metadata": {
    "colab": {},
    "colab_type": "code",
    "id": "RiPlWLm6PzZp"
   },
   "outputs": [
    {
     "name": "stdout",
     "output_type": "stream",
     "text": [
      "3\n",
      "14\n"
     ]
    }
   ],
   "source": [
    "n = int(input())\n",
    "i = 1\n",
    "summa = 0\n",
    "while i <= n:\n",
    "    summa += i**2\n",
    "    i += 1\n",
    "print(summa)\n"
   ]
  },
  {
   "cell_type": "markdown",
   "metadata": {
    "colab_type": "text",
    "id": "aXzG4-wdPzZr"
   },
   "source": [
    "## 9\n",
    "\n",
    "Напишите программу, которая на вход получает число n и считает по нему сумму сумму 1! + 2! + 3! + ... + n!\n",
    "<br><br>\n",
    "*Ограничение: нельзя пользоваться готовой функцией `factorial()` из модуля `math`, функцией `sum()` и их аналогами.*\n",
    "\n",
    "*Формат ввода:* <br>\n",
    "3<br><br>\n",
    "\n",
    "*Формат вывода:* <br>\n",
    "9"
   ]
  },
  {
   "cell_type": "code",
   "execution_count": 14,
   "metadata": {
    "colab": {},
    "colab_type": "code",
    "id": "KBEXUEDQPzZs"
   },
   "outputs": [
    {
     "name": "stdout",
     "output_type": "stream",
     "text": [
      "3\n",
      "9\n"
     ]
    }
   ],
   "source": [
    "n = int(input())\n",
    "i = 1\n",
    "factorial = 1\n",
    "summa = 1\n",
    "while i < n:\n",
    "    i += 1\n",
    "    factorial *= i\n",
    "    summa += factorial\n",
    "print(summa)"
   ]
  },
  {
   "cell_type": "markdown",
   "metadata": {
    "colab_type": "text",
    "id": "4nsOuiWVPzZu"
   },
   "source": [
    "### 10\n",
    "\n",
    "Напишите программу, которая получает на вход последовательность чисел (каждое число с новой строки до того момента, пока пользователь не введёт 0) и считает количество чётных элементов в последовательности.\n",
    "<br><br>\n",
    "*Формат ввода:* <br>\n",
    "5<br>\n",
    "4<br>\n",
    "2<br>\n",
    "7<br>\n",
    "8<br>\n",
    "9<br>\n",
    "0<br><br>\n",
    "\n",
    "*Формат вывода:* <br>\n",
    "3"
   ]
  },
  {
   "cell_type": "code",
   "execution_count": 15,
   "metadata": {
    "colab": {},
    "colab_type": "code",
    "id": "xktF2cocPzZv"
   },
   "outputs": [
    {
     "name": "stdout",
     "output_type": "stream",
     "text": [
      "5\n",
      "4\n",
      "2\n",
      "7\n",
      "8\n",
      "9\n",
      "0\n",
      "3\n"
     ]
    }
   ],
   "source": [
    "even = 0\n",
    "while True:\n",
    "    new_value = int(input())\n",
    "    if new_value == 0:\n",
    "        break\n",
    "    elif new_value % 2 == 0:\n",
    "        even += 1\n",
    "print(even)"
   ]
  },
  {
   "cell_type": "markdown",
   "metadata": {
    "colab_type": "text",
    "id": "hyC9QGXPPzZx"
   },
   "source": [
    "### 11\n",
    "\n",
    "Напишите программу, которая формирует список игроков женской команды по мини-футболу. Программа должна записывать возраст и пол претендента. Возраст должен запрашиваться после пола и только в том случае, если пол претендента женский. Если пол претендента мужской, программа должна сообщать о том, что он не подходит. Возраст претенденток должен быть от 18 до 35 лет. Если кандидат удовлетворяет требованиям, должно появляться соответствующее сообщение. Всего в команде могут быть только шесть человек. Когда необходимое число набирается, запись закрывается и выводится сообщение «Запись в команду закрыта».\n"
   ]
  },
  {
   "cell_type": "code",
   "execution_count": 3,
   "metadata": {
    "colab": {},
    "colab_type": "code",
    "id": "qSDK-zQ4PzZx"
   },
   "outputs": [
    {
     "name": "stdout",
     "output_type": "stream",
     "text": [
      "Enter your gender (M - male or F - female): Male\n",
      "Please, correct input and try again.\n",
      "Enter your gender (M - male or F - female): M\n",
      "Sorry, but your gender is not suitable for this team.\n",
      "Enter your gender (M - male or F - female): F\n",
      "Enter your age: 17\n",
      "Sorry, but your age is not suitable for this team.\n",
      "Enter your gender (M - male or F - female): F\n",
      "Enter your age: 18\n",
      "Congratulations, you're on the team!\n",
      "Enter your gender (M - male or F - female): F\n",
      "Enter your age: 20\n",
      "Congratulations, you're on the team!\n",
      "Enter your gender (M - male or F - female): F\n",
      "Enter your age: 24\n",
      "Congratulations, you're on the team!\n",
      "Enter your gender (M - male or F - female): F\n",
      "Enter your age: 30\n",
      "Congratulations, you're on the team!\n",
      "Enter your gender (M - male or F - female): F\n",
      "Enter your age: 35\n",
      "Sorry, but your age is not suitable for this team.\n",
      "Enter your gender (M - male or F - female): F\n",
      "Enter your age: 28\n",
      "Congratulations, you're on the team!\n",
      "Enter your gender (M - male or F - female): F\n",
      "Enter your age: 25\n",
      "Congratulations, you're on the team!\n",
      "Запись в команду закрыта.\n"
     ]
    }
   ],
   "source": [
    "team = []\n",
    "while len(team) < 6:\n",
    "    gender = input(\"Enter your gender (M - male or F - female): \")\n",
    "    if gender == 'F':\n",
    "        age = int(input(\"Enter your age: \"))\n",
    "        if 18 <= age < 35:\n",
    "            team.append([gender, age])\n",
    "            print(\"Congratulations, you're on the team!\")         \n",
    "        else:\n",
    "            print(\"Sorry, but your age is not suitable for this team.\")\n",
    "            continue\n",
    "    elif gender == 'M':\n",
    "        print(\"Sorry, but your gender is not suitable for this team.\")\n",
    "        continue\n",
    "    else:\n",
    "        print(\"Please, correct input and try again.\")\n",
    "        continue\n",
    "else:\n",
    "    print(\"Запись в команду закрыта.\")\n"
   ]
  },
  {
   "cell_type": "markdown",
   "metadata": {
    "colab_type": "text",
    "id": "B4JAB8AqPzZ0"
   },
   "source": [
    "### 12\n",
    "\n",
    "\n",
    "Напишите программу, которая на вход получает максимальную ширину ромба и рисует его. Гарантируется, что входное число всегда нечётное.\n",
    "<br><br>\n",
    "\n",
    "*Формат ввода:* <br>\n",
    "5<br><br>\n",
    "\n",
    "*Формат вывода:* <br>\n",
    "```  \n",
    "  *\n",
    " ***\n",
    "*****\n",
    " ***\n",
    "  *```"
   ]
  },
  {
   "cell_type": "markdown",
   "metadata": {
    "colab_type": "text",
    "id": "74kwD7s7B1S6"
   },
   "source": [
    "**Рекомендации к выполнению задания:** Внимательно изучите рисунок из примера, попробуйте заметить закономерность, по которой он строится."
   ]
  },
  {
   "cell_type": "code",
   "execution_count": 43,
   "metadata": {
    "colab": {},
    "colab_type": "code",
    "id": "WVp7O75oPzZ0"
   },
   "outputs": [
    {
     "name": "stdout",
     "output_type": "stream",
     "text": [
      "Введите нечётное число: 9\n",
      "    *\n",
      "   ***\n",
      "  *****\n",
      " *******\n",
      "*********\n",
      " *******\n",
      "  *****\n",
      "   ***\n",
      "    *\n"
     ]
    }
   ],
   "source": [
    "while True:\n",
    "    max_width = int(input(\"Введите нечётное число: \"))\n",
    "    if max_width % 2 == 0:\n",
    "        print(\"Вы ввели чётное число! Повторите ввод.\")\n",
    "        continue\n",
    "    else:\n",
    "        break\n",
    "\n",
    "height = 1\n",
    "width = 1\n",
    "while height <= max_width:\n",
    "    if height < (max_width // 2) + 1:\n",
    "        print(\" \" * ((max_width - width) // 2) + '*' * width)\n",
    "        width += 2\n",
    "    else:\n",
    "        print(\" \" * ((max_width - width) // 2) + '*' * width)\n",
    "        width -= 2\n",
    "    height += 1\n",
    "\n",
    "#вариант преподавателя\n",
    "romb_diag = int(input('Введите диагональ ромба: '))\n",
    "st = -1\n",
    "sp = int(romb_diag - 1 / 2) + 1\n",
    "for i in range(romb_diag):\n",
    "    if i <= (romb_diag - 1) / 2:\n",
    "        st += 2\n",
    "        sp -= 1\n",
    "        print(' ' * sp, '*' * st, ' ' * sp)\n",
    "    else:\n",
    "        st -= 2\n",
    "        sp += 1\n",
    "        print(' ' * sp, '*' * st, ' ' * sp)\n",
    "    "
   ]
  },
  {
   "cell_type": "markdown",
   "metadata": {
    "colab_type": "text",
    "id": "xrIXWj0yPzZ2"
   },
   "source": [
    "### 13\n",
    "\n",
    "Напишите программу, которая запрашивает у пользователя сторону квадрата и символ, а затем рисует этот символ по диагоналям квадрата. Гарантируется, что входное число всегда нечётное.\n",
    "<br><br>\n",
    "\n",
    "*Формат ввода:* <br>\n",
    "5<br>\n",
    "\\#<br><br>\n",
    "\n",
    "*Формат вывода:* <br>\n",
    "```\n",
    " \n",
    "#   #\n",
    " # #\n",
    "  #  \n",
    " # #\n",
    "#   #\n",
    "```"
   ]
  },
  {
   "cell_type": "markdown",
   "metadata": {
    "colab_type": "text",
    "id": "ITzL6HrwB1S9"
   },
   "source": [
    "**Рекомендации к выполнению задания:** внимательно изучите рисунок из примера, попробуйте заметить закономерность, по которой он строится."
   ]
  },
  {
   "cell_type": "code",
   "execution_count": 49,
   "metadata": {
    "colab": {},
    "colab_type": "code",
    "id": "oUKNB9TaPzZ3"
   },
   "outputs": [
    {
     "name": "stdout",
     "output_type": "stream",
     "text": [
      "Введите нечётное число: 9\n",
      "Введите символ: @\n",
      "@       @\n",
      " @     @\n",
      "  @   @\n",
      "   @ @\n",
      "    @\n",
      "   @ @\n",
      "  @   @\n",
      " @     @\n",
      "@       @\n"
     ]
    }
   ],
   "source": [
    "while True:\n",
    "    width = int(input(\"Введите нечётное число: \"))\n",
    "    if width % 2 == 0:\n",
    "        print(\"Вы ввели чётное число! Повторите ввод.\")\n",
    "        continue\n",
    "    else:\n",
    "        simbol = input(\"Введите символ: \")\n",
    "        break\n",
    "        \n",
    "height = 0\n",
    "coefficient = 0\n",
    "while height < width:\n",
    "    if height < width // 2:\n",
    "        print(\" \" * coefficient + simbol + \" \" * (width - 2 - coefficient * 2) + simbol)\n",
    "        coefficient += 1\n",
    "    elif height == width // 2:\n",
    "        print(\" \" * coefficient + simbol)\n",
    "        coefficient -= 1\n",
    "    else:\n",
    "        print(\" \" * coefficient + simbol + \" \" * (width - 2 - coefficient * 2) + simbol)\n",
    "        coefficient -= 1\n",
    "    height += 1\n",
    "    \n",
    "#вариант преподавателя   \n",
    "w = (int(input('Введите сторону квадрата: ')))\n",
    "s = input()\n",
    "for i in range(w):\n",
    "    for j in range(w):\n",
    "        c = ' '\n",
    "        if (i == j) | (i == (w - j - 1)):\n",
    "            c = s\n",
    "        print(c, end = '')\n",
    "    print('')"
   ]
  },
  {
   "cell_type": "markdown",
   "metadata": {
    "colab_type": "text",
    "id": "3GaiPsFYPzZ_"
   },
   "source": [
    "### 14\n",
    "\n",
    "В корзине лежат шары. Если разложить их в кучи по два, останется один. Если разложить в кучи по три, останется один. Если разложить в кучи по четыре, останется один. Если разложить в кучи по пять, останется один. Если разложить в кучи по шесть, останется один. Если разложить в кучи по семь, не будет остатка. Нужно найти минимальное количество шаров, удовлетворяющее условию.  <br>"
   ]
  },
  {
   "cell_type": "code",
   "execution_count": 50,
   "metadata": {
    "colab": {},
    "colab_type": "code",
    "id": "V2msEhQkPzZ_"
   },
   "outputs": [
    {
     "name": "stdout",
     "output_type": "stream",
     "text": [
      "Минимальное количество шаров, удовлетворяющее условию: 301\n"
     ]
    }
   ],
   "source": [
    "divisors = range(6,1,-1)\n",
    "x = 7\n",
    "while True:\n",
    "    for divisor in divisors:\n",
    "        if x % divisor != 1:\n",
    "            x += 7\n",
    "            break\n",
    "    else:\n",
    "        print(\"Минимальное количество шаров, удовлетворяющее условию:\", x)\n",
    "        break       \n"
   ]
  },
  {
   "cell_type": "markdown",
   "metadata": {
    "colab_type": "text",
    "id": "5pOjlON-PzaC"
   },
   "source": [
    "### 15\n",
    "\n",
    "Рабочие клеили обои на стены. Первую стену поклеили за M минут, а каждую следующую клеили на пять минут дольше, чем предыдущую.\n",
    "Напишите программу, которая запрашивает, сколько стен было в квартире под поклейку, а также время работы с первой стеной в минутах. Программа должна выводить, сколько **часов** рабочие потратили на поклейку обоев во всей квартире. Час отсчитывается с первой минуты. Ответом должно быть целое число. \n",
    "<br><br>\n",
    "*Ограничение: нельзя пользоваться готовыми функциями `bool()`, `floor()` и их аналогами.*\n",
    "<br><br>\n",
    "*Формат ввода:* <br>\n",
    "6<br>\n",
    "10<br><br>\n",
    "\n",
    "*Формат вывода:* <br>\n",
    "3"
   ]
  },
  {
   "cell_type": "code",
   "execution_count": 63,
   "metadata": {
    "colab": {},
    "colab_type": "code",
    "id": "Pmu96rWGPzaD"
   },
   "outputs": [
    {
     "name": "stdout",
     "output_type": "stream",
     "text": [
      "6\n",
      "10\n",
      "3\n"
     ]
    }
   ],
   "source": [
    "number_of_walls = int(input())\n",
    "first_time = int(input())\n",
    "summa = 0\n",
    "for i in range(1, number_of_walls + 1):\n",
    "    summa += first_time\n",
    "    first_time += 5\n",
    "print(summa // 60 + (summa % 60 > 0))\n"
   ]
  },
  {
   "cell_type": "markdown",
   "metadata": {
    "colab_type": "text",
    "id": "63C6Za3CPzaF"
   },
   "source": [
    "### 16\n",
    "\n",
    "Напишите программу, которая убирает из списка повторяющиеся элементы. Программа должна запрашивать на вход слова, каждое с новой строки, пока пользователь не введёт пустую строку. Затем должна выводить список без повторяющихся элементов. \n",
    "<br><br>\n",
    "*Ограничение: нельзя пользоваться готовой функцией `set()` и её аналогами.*\n",
    "\n",
    "<br><br>\n",
    "*Формат ввода:* <br>\n",
    "Алиса<br>\n",
    "Алиса<br>\n",
    "Алиса<br>\n",
    "Петя<br>\n",
    "<br><br>\n",
    "\n",
    "*Формат вывода:* <br>\n",
    "[Алиса, Петя]"
   ]
  },
  {
   "cell_type": "markdown",
   "metadata": {
    "colab_type": "text",
    "id": "xwewurzYB1TF"
   },
   "source": [
    "**Рекомендации к выполнению задания:** попробуйте использовать проверку на включённость."
   ]
  },
  {
   "cell_type": "code",
   "execution_count": 56,
   "metadata": {
    "colab": {},
    "colab_type": "code",
    "id": "MQ-eDkbAPzaG"
   },
   "outputs": [
    {
     "name": "stdout",
     "output_type": "stream",
     "text": [
      "David\n",
      "David\n",
      "Alice\n",
      "Michael\n",
      "Alice\n",
      "Michael\n",
      "David\n",
      "\n",
      "['David', 'Alice', 'Michael']\n"
     ]
    }
   ],
   "source": [
    "list = []\n",
    "while True:\n",
    "    new_elem = input()\n",
    "    if new_elem == '':\n",
    "        break\n",
    "    elif new_elem in list:\n",
    "        continue\n",
    "    else:\n",
    "        list.append(new_elem)\n",
    "print(list)"
   ]
  },
  {
   "cell_type": "markdown",
   "metadata": {
    "colab_type": "text",
    "id": "jueSDORaPzaI"
   },
   "source": [
    "### 17\n",
    "\n",
    "Напишите программу, которая выводит число пар одинаковых элементов в списке. При этом, если два элемента образовали пару, они не могут вступить в пару с другими элементами. Программа должна запрашивать на вход слова, каждое с новой строки, пока пользователь не введёт пустую строку. \n",
    "<br><br>\n",
    "*Формат ввода:* <br>\n",
    "Алиса<br>\n",
    "Алиса<br>\n",
    "Алиса<br>\n",
    "<br><br>\n",
    "\n",
    "*Формат вывода:* <br>\n",
    "1"
   ]
  },
  {
   "cell_type": "markdown",
   "metadata": {
    "colab_type": "text",
    "id": "gpQuU1lnB1TH"
   },
   "source": [
    "**Рекомендации к выполнению задания:** попробуйте использовать проверку на включённость."
   ]
  },
  {
   "cell_type": "code",
   "execution_count": 60,
   "metadata": {
    "colab": {},
    "colab_type": "code",
    "id": "49tbEr3NPzaJ"
   },
   "outputs": [
    {
     "name": "stdout",
     "output_type": "stream",
     "text": [
      "David\n",
      "Alice\n",
      "Alice\n",
      "Michael\n",
      "Michael\n",
      "Michael\n",
      "Michael\n",
      "David\n",
      "David\n",
      "\n",
      "1\n"
     ]
    }
   ],
   "source": [
    "list = []\n",
    "number_of_identical_pairs = 0\n",
    "while True:\n",
    "    new_elem = input()\n",
    "    if new_elem == '':\n",
    "        break\n",
    "    elif len(list) > 0 and list.index(list[-1]) % 2 == 0 and list[-1] == new_elem:\n",
    "        list.append(new_elem)\n",
    "        number_of_identical_pairs += 1\n",
    "    else:\n",
    "        list.append(new_elem)\n",
    "        \n",
    "print(number_of_identical_pairs)"
   ]
  },
  {
   "cell_type": "markdown",
   "metadata": {
    "colab_type": "text",
    "id": "yVLcBrD-PzaN"
   },
   "source": [
    "### 18\n",
    "\n",
    "Будем считать, что кубик может иметь неограниченное количество граней (натуральное число). Напишите программу, которая запрашивает, сколько граней имеется у двух разных кубиков. Затем выводит все возможные комбинации результатов бросков двух таких кубиков. \n",
    "<br><br>\n",
    "*Формат ввода:* <br>\n",
    "3<br>\n",
    "4<br><br>\n",
    "\n",
    "*Формат вывода:* <br>\n",
    "1 1<br>\n",
    "1 2<br>\n",
    "1 3<br>\n",
    "1 4<br>\n",
    "2 1<br>\n",
    "2 2<br>\n",
    "2 3<br>\n",
    "2 4<br>\n",
    "3 1<br>\n",
    "3 2<br>\n",
    "3 3<br>\n",
    "3 4<br>"
   ]
  },
  {
   "cell_type": "markdown",
   "metadata": {
    "colab_type": "text",
    "id": "5aAs5EsFB1TK"
   },
   "source": [
    "**Рекомендации к выполнению задания:** попробуйте использовать вложенные циклы."
   ]
  },
  {
   "cell_type": "code",
   "execution_count": 61,
   "metadata": {
    "colab": {},
    "colab_type": "code",
    "id": "7I2va0KwPzaR"
   },
   "outputs": [
    {
     "name": "stdout",
     "output_type": "stream",
     "text": [
      "3\n",
      "4\n",
      "1 1\n",
      "1 2\n",
      "1 3\n",
      "1 4\n",
      "2 1\n",
      "2 2\n",
      "2 3\n",
      "2 4\n",
      "3 1\n",
      "3 2\n",
      "3 3\n",
      "3 4\n"
     ]
    }
   ],
   "source": [
    "first_dice_number_of_faces = int(input())\n",
    "second_dice_number_of_faces = int(input())\n",
    "for f in range(1, first_dice_number_of_faces + 1):\n",
    "    for s in range(1, second_dice_number_of_faces + 1):\n",
    "        print(f, s)"
   ]
  },
  {
   "cell_type": "code",
   "execution_count": null,
   "metadata": {},
   "outputs": [],
   "source": []
  }
 ],
 "metadata": {
  "colab": {
   "collapsed_sections": [],
   "name": "jun_anl_loops_and_ifs.ipynb",
   "provenance": []
  },
  "kernelspec": {
   "display_name": "Python 3",
   "language": "python",
   "name": "python3"
  },
  "language_info": {
   "codemirror_mode": {
    "name": "ipython",
    "version": 3
   },
   "file_extension": ".py",
   "mimetype": "text/x-python",
   "name": "python",
   "nbconvert_exporter": "python",
   "pygments_lexer": "ipython3",
   "version": "3.7.6"
  }
 },
 "nbformat": 4,
 "nbformat_minor": 1
}
